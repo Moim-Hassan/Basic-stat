{
 "cells": [
  {
   "cell_type": "markdown",
   "id": "73ffb4f9-f945-4f7c-8de4-d4b90a46c700",
   "metadata": {},
   "source": [
    "### **Basic Statistics Calculator**  \n",
    "   - Writing a program that calculates basic statistics (mean, median, mode, standard deviation, and variance) for a dataset using NumPy also handling missing values."
   ]
  },
  {
   "cell_type": "code",
   "execution_count": 117,
   "id": "c17110c4-6242-478a-a78c-5785e0d42bfb",
   "metadata": {},
   "outputs": [],
   "source": [
    "### Importing numpy and stats for numerical and statistical analysis \n",
    "import numpy as np\n",
    "from scipy import stats\n",
    "\n",
    "### Defining a function\n",
    "def cal(d,miss='fill'):\n",
    "    if miss=='omit':\n",
    "        d= d[~np.isnan(d)]\n",
    "    elif miss=='fill':\n",
    "        d= np.nan_to_num(d,nan=np.nanmean(d).round())\n",
    "    mean=np.mean(d)\n",
    "    median=np.median(d)\n",
    "    mode=stats.mode(d)\n",
    "    std=np.std(d,ddof=1)\n",
    "    var=np.var(d,ddof=1)\n",
    "    result=f\" Data after cleaning: {d}\\n Mean: {mean}\\n Median: {median}\\n Mode: {mode[0]}\\n Number of mode: {mode[1]}\\n Standard Deviation: {std}\\n Variance: {var}\"\n",
    "    return result"
   ]
  },
  {
   "cell_type": "code",
   "execution_count": 113,
   "id": "dc1f5712-cf40-476a-b18b-5e5e2af5ad7d",
   "metadata": {},
   "outputs": [
    {
     "name": "stdout",
     "output_type": "stream",
     "text": [
      " Data after cleaning: [99. 90. 77. 63. 54. 57. 20. 92. 55.]\n",
      " Mean: 67.44444444444444\n",
      " Median: 63.0\n",
      " Mode: 20.0\n",
      " Number of mode: 1\n",
      " Standard Deviation: 24.78462785231559\n",
      " Variance: 614.2777777777777\n",
      " Data after cleaning: [99. 90. 77. 63. 54. 57. 20. 92. 55.]\n",
      " Mean: 67.44444444444444\n",
      " Median: 63.0\n",
      " Mode: 20.0\n",
      " Number of mode: 1\n",
      " Standard Deviation: 24.78462785231559\n",
      " Variance: 614.2777777777777\n",
      " Data after cleaning: [99. 90. 77. 63. 54. 57. 20. 92. 55.]\n",
      " Mean: 67.44444444444444\n",
      " Median: 63.0\n",
      " Mode: 20.0\n",
      " Number of mode: 1\n",
      " Standard Deviation: 24.78462785231559\n",
      " Variance: 614.2777777777777\n"
     ]
    }
   ],
   "source": [
    "###Remove #-sign for fixed random number\n",
    "#np.random.seed(1010)\n",
    "\n",
    "### Taking random integers as float. This is for making array of NaN value\n",
    "d=np.random.randint(0,100,9).astype(float)\n",
    "\n",
    "### Elements that are less than 20 are converted into NaN\n",
    "d[d<20]=np.nan\n",
    "\n",
    "### Omitting NaN values and gettig the Statistics\n",
    "print(cal(d,'omit')) \n",
    "\n",
    "### Replacing NaN values and gettig the Statistics\n",
    "print(cal(d,'fill'))\n",
    "\n",
    "### Replacing NaN values with defalt settings and gettig the Statistics\n",
    "print(cal(d))"
   ]
  },
  {
   "cell_type": "code",
   "execution_count": 175,
   "id": "a97757cb-7d2b-4ba0-9d54-761786484746",
   "metadata": {},
   "outputs": [
    {
     "name": "stdout",
     "output_type": "stream",
     "text": [
      "Clean data set is:\n",
      " [88. 62. 68.  6. 96. 68. 57. 76. 91. 64.]\n",
      "Mean of the data is: 67.44444444444444\n",
      "Median of the data is: 63.0\n",
      "Mode of the data is: 20.0\n",
      "Number of mode in the data is: 1\n",
      "Standard deviation of the data is: 23.367171231409774\n",
      "Variance of the data is: 546.0246913580246\n"
     ]
    }
   ],
   "source": []
  },
  {
   "cell_type": "code",
   "execution_count": null,
   "id": "b56241bc-6738-49b6-a54b-f7beaf0c1a70",
   "metadata": {},
   "outputs": [],
   "source": []
  }
 ],
 "metadata": {
  "kernelspec": {
   "display_name": "Python 3 (ipykernel)",
   "language": "python",
   "name": "python3"
  },
  "language_info": {
   "codemirror_mode": {
    "name": "ipython",
    "version": 3
   },
   "file_extension": ".py",
   "mimetype": "text/x-python",
   "name": "python",
   "nbconvert_exporter": "python",
   "pygments_lexer": "ipython3",
   "version": "3.12.7"
  }
 },
 "nbformat": 4,
 "nbformat_minor": 5
}
