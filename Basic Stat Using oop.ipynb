{
 "cells": [
  {
   "cell_type": "code",
   "execution_count": 28,
   "id": "899cccd6-02c2-4db2-9354-8e90f249c878",
   "metadata": {},
   "outputs": [],
   "source": [
    "import numpy as np\n",
    "from scipy import stats\n",
    "\n",
    "class stat:\n",
    "    def __init__(self,d):\n",
    "        self.d=d\n",
    "    def show_data(self):\n",
    "        print('The original dataset is:\\n', self.d)\n",
    "        \n",
    "    def hand_miss(self,miss='fill'):\n",
    "        if miss=='omit':\n",
    "            self.d= self.d[~np.isnan(self.d)]\n",
    "            print('\\nClean data set is:\\n', self.d)\n",
    "        elif miss=='fill':\n",
    "            self.d=np.nan_to_num(self.d,nan=np.nanmean(self.d).round())\n",
    "            print('\\nClean data set is:\\n',self.d)\n",
    "    def mean(self):\n",
    "        print('\\nMean of the data is:', np.mean(self.d))\n",
    "    def median(self):\n",
    "        print('\\nMedian of the data is:', np.median(self.d))\n",
    "    def mode(self):\n",
    "        print('\\nMode of the data is:', stats.mode(self.d)[0])\n",
    "        print('\\nNumber of mode in the data is:', stats.mode(self.d)[1])\n",
    "    def std(self):\n",
    "        print('\\nStandard deviation of the data is:', np.std(self.d))\n",
    "    def var(self):\n",
    "        print('\\nVariance of the data is:', np.var(self.d))"
   ]
  },
  {
   "cell_type": "code",
   "execution_count": 36,
   "id": "36abeccf-54eb-4e54-b901-02b68917f691",
   "metadata": {},
   "outputs": [
    {
     "name": "stdout",
     "output_type": "stream",
     "text": [
      "The original dataset is:\n",
      " [49. 53. nan 36. 18. nan 20. 78. 68. 74.]\n",
      "\n",
      "Clean data set is:\n",
      " [49. 53. 50. 36. 18. 50. 20. 78. 68. 74.]\n",
      "\n",
      "Mean of the data is: 49.6\n",
      "\n",
      "Median of the data is: 50.0\n",
      "\n",
      "Mode of the data is: 50.0\n",
      "\n",
      "Number of mode in the data is: 2\n",
      "\n",
      "Standard deviation of the data is: 19.525368114327573\n",
      "\n",
      "Variance of the data is: 381.23999999999995\n"
     ]
    }
   ],
   "source": [
    "a=np.random.randint(1,100,10).astype(float)\n",
    "a[2]=np.nan\n",
    "a[5]=np.nan\n",
    "a1=stat(a)\n",
    "a1.show_data()\n",
    "a1.hand_miss()\n",
    "a1.mean()\n",
    "a1.median()\n",
    "a1.mode()\n",
    "a1.std()\n",
    "a1.var()"
   ]
  },
  {
   "cell_type": "code",
   "execution_count": null,
   "id": "2dfdca2b-8c24-4e3c-9a30-5f41cff1f8d3",
   "metadata": {},
   "outputs": [],
   "source": []
  }
 ],
 "metadata": {
  "kernelspec": {
   "display_name": "Python 3 (ipykernel)",
   "language": "python",
   "name": "python3"
  },
  "language_info": {
   "codemirror_mode": {
    "name": "ipython",
    "version": 3
   },
   "file_extension": ".py",
   "mimetype": "text/x-python",
   "name": "python",
   "nbconvert_exporter": "python",
   "pygments_lexer": "ipython3",
   "version": "3.12.7"
  }
 },
 "nbformat": 4,
 "nbformat_minor": 5
}
